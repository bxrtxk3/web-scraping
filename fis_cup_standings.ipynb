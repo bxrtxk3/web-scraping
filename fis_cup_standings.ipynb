{
 "cells": [
  {
   "cell_type": "code",
   "execution_count": 1,
   "id": "5fe077ed",
   "metadata": {},
   "outputs": [],
   "source": [
    "import pandas as pd\n",
    "import requests as rq\n",
    "from bs4 import BeautifulSoup as bs\n",
    "import lxml"
   ]
  },
  {
   "cell_type": "code",
   "execution_count": 2,
   "id": "3a85f33f",
   "metadata": {},
   "outputs": [],
   "source": [
    "html_text = rq.get('https://www.fis-ski.com/DB/general/cup-standings.html?sectorcode=JP&seasoncode=2023&cupcode=WC&disciplinecode=ALL&gendercode=M&nationcode=').text"
   ]
  },
  {
   "cell_type": "code",
   "execution_count": 3,
   "id": "7917dc73",
   "metadata": {},
   "outputs": [],
   "source": [
    "soup = bs(html_text, 'lxml')"
   ]
  },
  {
   "cell_type": "code",
   "execution_count": 4,
   "id": "44ed0999",
   "metadata": {},
   "outputs": [],
   "source": [
    "rows = soup.find_all('div', class_='container g-row')"
   ]
  },
  {
   "cell_type": "code",
   "execution_count": 5,
   "id": "f4148364",
   "metadata": {},
   "outputs": [],
   "source": [
    "names = [row.find('div', class_='g-xs-10 g-sm-9 g-md-4 g-lg-4 justify-left bold align-xs-top').text.strip() for row in rows]"
   ]
  },
  {
   "cell_type": "code",
   "execution_count": 6,
   "id": "1189b1c7",
   "metadata": {},
   "outputs": [],
   "source": [
    "countries = [row.find('span', class_='country__name-short').text for row in rows]"
   ]
  },
  {
   "cell_type": "code",
   "execution_count": 7,
   "id": "279cba8e",
   "metadata": {},
   "outputs": [],
   "source": [
    "points = [row.find('div', class_='pl-xs-1 pl-sm-1 g-xs-10 g-sm-7 g-md-9 g-lg-8 justify-right bold').text for row in rows]"
   ]
  },
  {
   "cell_type": "code",
   "execution_count": 8,
   "id": "9af31f29",
   "metadata": {},
   "outputs": [],
   "source": [
    "df = pd.DataFrame()\n",
    "df['name'] = names\n",
    "df['country'] = countries\n",
    "df['points'] = points"
   ]
  },
  {
   "cell_type": "code",
   "execution_count": 16,
   "id": "c70a5cce",
   "metadata": {},
   "outputs": [
    {
     "data": {
      "text/html": [
       "<div>\n",
       "<style scoped>\n",
       "    .dataframe tbody tr th:only-of-type {\n",
       "        vertical-align: middle;\n",
       "    }\n",
       "\n",
       "    .dataframe tbody tr th {\n",
       "        vertical-align: top;\n",
       "    }\n",
       "\n",
       "    .dataframe thead th {\n",
       "        text-align: right;\n",
       "    }\n",
       "</style>\n",
       "<table border=\"1\" class=\"dataframe\">\n",
       "  <thead>\n",
       "    <tr style=\"text-align: right;\">\n",
       "      <th></th>\n",
       "      <th>name</th>\n",
       "      <th>country</th>\n",
       "      <th>points</th>\n",
       "    </tr>\n",
       "  </thead>\n",
       "  <tbody>\n",
       "    <tr>\n",
       "      <th>6</th>\n",
       "      <td>GEIGER Karl</td>\n",
       "      <td>GER</td>\n",
       "      <td>268</td>\n",
       "    </tr>\n",
       "    <tr>\n",
       "      <th>13</th>\n",
       "      <td>LINDVIK Marius</td>\n",
       "      <td>NOR</td>\n",
       "      <td>208</td>\n",
       "    </tr>\n",
       "  </tbody>\n",
       "</table>\n",
       "</div>"
      ],
      "text/plain": [
       "              name country points\n",
       "6      GEIGER Karl     GER    268\n",
       "13  LINDVIK Marius     NOR    208"
      ]
     },
     "execution_count": 16,
     "metadata": {},
     "output_type": "execute_result"
    }
   ],
   "source": [
    "df.where((df['name'].str.contains(\"GEIGER\") | (df['name'].str.contains(\"LINDVIK\")))).dropna()"
   ]
  }
 ],
 "metadata": {
  "kernelspec": {
   "display_name": "Python 3 (ipykernel)",
   "language": "python",
   "name": "python3"
  },
  "language_info": {
   "codemirror_mode": {
    "name": "ipython",
    "version": 3
   },
   "file_extension": ".py",
   "mimetype": "text/x-python",
   "name": "python",
   "nbconvert_exporter": "python",
   "pygments_lexer": "ipython3",
   "version": "3.10.6"
  }
 },
 "nbformat": 4,
 "nbformat_minor": 5
}
