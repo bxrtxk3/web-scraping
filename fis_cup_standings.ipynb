{
 "cells": [
  {
   "cell_type": "code",
   "execution_count": 1,
   "id": "5fe077ed",
   "metadata": {},
   "outputs": [],
   "source": [
    "import pandas as pd\n",
    "import requests as rq\n",
    "from bs4 import BeautifulSoup as bs\n",
    "import lxml"
   ]
  },
  {
   "cell_type": "code",
   "execution_count": 2,
   "id": "3a85f33f",
   "metadata": {},
   "outputs": [],
   "source": [
    "html_text = rq.get('https://www.fis-ski.com/DB/general/cup-standings.html?sectorcode=JP&seasoncode=2023&cupcode=WC&disciplinecode=ALL&gendercode=M&nationcode=').text"
   ]
  },
  {
   "cell_type": "code",
   "execution_count": 3,
   "id": "7917dc73",
   "metadata": {},
   "outputs": [],
   "source": [
    "soup = bs(html_text, 'lxml')"
   ]
  },
  {
   "cell_type": "code",
   "execution_count": 4,
   "id": "44ed0999",
   "metadata": {},
   "outputs": [],
   "source": [
    "rows = soup.find_all('div', class_='container g-row')"
   ]
  },
  {
   "cell_type": "code",
   "execution_count": 5,
   "id": "f4148364",
   "metadata": {},
   "outputs": [],
   "source": [
    "names = [row.find('div', class_='g-xs-10 g-sm-9 g-md-4 g-lg-4 justify-left bold align-xs-top').text.strip() for row in rows]"
   ]
  },
  {
   "cell_type": "code",
   "execution_count": 6,
   "id": "1189b1c7",
   "metadata": {},
   "outputs": [],
   "source": [
    "countries = [row.find('span', class_='country__name-short').text for row in rows]"
   ]
  },
  {
   "cell_type": "code",
   "execution_count": 7,
   "id": "279cba8e",
   "metadata": {},
   "outputs": [],
   "source": [
    "points = [row.find('div', class_='pl-xs-1 pl-sm-1 g-xs-10 g-sm-7 g-md-9 g-lg-8 justify-right bold').text for row in rows]"
   ]
  },
  {
   "cell_type": "code",
   "execution_count": 8,
   "id": "9af31f29",
   "metadata": {},
   "outputs": [],
   "source": [
    "df = pd.DataFrame()\n",
    "df['name'] = names\n",
    "df['country'] = countries\n",
    "df['points'] = points"
   ]
  },
  {
   "cell_type": "code",
   "execution_count": 9,
   "id": "c70a5cce",
   "metadata": {},
   "outputs": [
    {
     "data": {
      "text/html": [
       "<div>\n",
       "<style scoped>\n",
       "    .dataframe tbody tr th:only-of-type {\n",
       "        vertical-align: middle;\n",
       "    }\n",
       "\n",
       "    .dataframe tbody tr th {\n",
       "        vertical-align: top;\n",
       "    }\n",
       "\n",
       "    .dataframe thead th {\n",
       "        text-align: right;\n",
       "    }\n",
       "</style>\n",
       "<table border=\"1\" class=\"dataframe\">\n",
       "  <thead>\n",
       "    <tr style=\"text-align: right;\">\n",
       "      <th></th>\n",
       "      <th>name</th>\n",
       "      <th>country</th>\n",
       "      <th>points</th>\n",
       "    </tr>\n",
       "  </thead>\n",
       "  <tbody>\n",
       "    <tr>\n",
       "      <th>0</th>\n",
       "      <td>KUBACKI Dawid</td>\n",
       "      <td>POL</td>\n",
       "      <td>770</td>\n",
       "    </tr>\n",
       "    <tr>\n",
       "      <th>1</th>\n",
       "      <td>LANISEK Anze</td>\n",
       "      <td>SLO</td>\n",
       "      <td>682</td>\n",
       "    </tr>\n",
       "    <tr>\n",
       "      <th>2</th>\n",
       "      <td>GRANERUD Halvor Egner</td>\n",
       "      <td>NOR</td>\n",
       "      <td>616</td>\n",
       "    </tr>\n",
       "    <tr>\n",
       "      <th>3</th>\n",
       "      <td>KRAFT Stefan</td>\n",
       "      <td>AUT</td>\n",
       "      <td>525</td>\n",
       "    </tr>\n",
       "    <tr>\n",
       "      <th>4</th>\n",
       "      <td>ZYLA Piotr</td>\n",
       "      <td>POL</td>\n",
       "      <td>497</td>\n",
       "    </tr>\n",
       "    <tr>\n",
       "      <th>...</th>\n",
       "      <td>...</td>\n",
       "      <td>...</td>\n",
       "      <td>...</td>\n",
       "    </tr>\n",
       "    <tr>\n",
       "      <th>59</th>\n",
       "      <td>HABDAS Jan</td>\n",
       "      <td>POL</td>\n",
       "      <td>---</td>\n",
       "    </tr>\n",
       "    <tr>\n",
       "      <th>60</th>\n",
       "      <td>HAMANN Martin</td>\n",
       "      <td>GER</td>\n",
       "      <td>---</td>\n",
       "    </tr>\n",
       "    <tr>\n",
       "      <th>61</th>\n",
       "      <td>MALTSEV Kevin</td>\n",
       "      <td>EST</td>\n",
       "      <td>---</td>\n",
       "    </tr>\n",
       "    <tr>\n",
       "      <th>62</th>\n",
       "      <td>ROTH Luca</td>\n",
       "      <td>GER</td>\n",
       "      <td>---</td>\n",
       "    </tr>\n",
       "    <tr>\n",
       "      <th>63</th>\n",
       "      <td>SATO Keiichi</td>\n",
       "      <td>JPN</td>\n",
       "      <td>---</td>\n",
       "    </tr>\n",
       "  </tbody>\n",
       "</table>\n",
       "<p>64 rows × 3 columns</p>\n",
       "</div>"
      ],
      "text/plain": [
       "                     name country points\n",
       "0           KUBACKI Dawid     POL    770\n",
       "1            LANISEK Anze     SLO    682\n",
       "2   GRANERUD Halvor Egner     NOR    616\n",
       "3            KRAFT Stefan     AUT    525\n",
       "4              ZYLA Piotr     POL    497\n",
       "..                    ...     ...    ...\n",
       "59             HABDAS Jan     POL    ---\n",
       "60          HAMANN Martin     GER    ---\n",
       "61          MALTSEV Kevin     EST    ---\n",
       "62              ROTH Luca     GER    ---\n",
       "63           SATO Keiichi     JPN    ---\n",
       "\n",
       "[64 rows x 3 columns]"
      ]
     },
     "execution_count": 9,
     "metadata": {},
     "output_type": "execute_result"
    }
   ],
   "source": [
    "df"
   ]
  }
 ],
 "metadata": {
  "kernelspec": {
   "display_name": "Python 3 (ipykernel)",
   "language": "python",
   "name": "python3"
  },
  "language_info": {
   "codemirror_mode": {
    "name": "ipython",
    "version": 3
   },
   "file_extension": ".py",
   "mimetype": "text/x-python",
   "name": "python",
   "nbconvert_exporter": "python",
   "pygments_lexer": "ipython3",
   "version": "3.10.6"
  }
 },
 "nbformat": 4,
 "nbformat_minor": 5
}
